{
 "cells": [
  {
   "cell_type": "markdown",
   "metadata": {},
   "source": [
    "# ETL jsonfile to Elasticsearch / Opensearch (non sql data)"
   ]
  },
  {
   "cell_type": "markdown",
   "metadata": {},
   "source": [
    "In this notebook we will process a json file in python (Extract), select some features (Transform) and upload in elasticsearch (Load)"
   ]
  },
  {
   "cell_type": "code",
   "execution_count": 1,
   "metadata": {},
   "outputs": [],
   "source": [
    "import pandas as pd\n",
    "import json"
   ]
  },
  {
   "cell_type": "code",
   "execution_count": 2,
   "metadata": {},
   "outputs": [
    {
     "name": "stdout",
     "output_type": "stream",
     "text": [
      "<Elasticsearch([{'host': 'localhost', 'port': 9200}])>\n",
      "<OpenSearch([{'host': 'localhost', 'port': 9200}])>\n"
     ]
    }
   ],
   "source": [
    "from elasticsearch import Elasticsearch\n",
    "from elasticsearch import helpers\n",
    "\n",
    "es = Elasticsearch([{'host':'localhost', 'port': 9200}])\n",
    "print(es)\n",
    "\n",
    "from opensearchpy import OpenSearch\n",
    "# Create the client with SSL/TLS enabled, but hostname verification disabled.\n",
    "os = OpenSearch(hosts = [{'host': 'localhost', 'port': 9200}])\n",
    "print(os)"
   ]
  },
  {
   "cell_type": "markdown",
   "metadata": {},
   "source": [
    "Loading json data to python"
   ]
  },
  {
   "cell_type": "code",
   "execution_count": 3,
   "metadata": {},
   "outputs": [],
   "source": [
    "filename='./data_json/datos_json.json'\n",
    "\n",
    "with open(filename, 'r') as f:\n",
    "    object_list = []\n",
    "    for line in f.readlines():\n",
    "        object_list.append(json.loads(line))\n"
   ]
  },
  {
   "cell_type": "markdown",
   "metadata": {},
   "source": [
    "After load the file we can explore the characteristics"
   ]
  },
  {
   "cell_type": "code",
   "execution_count": 4,
   "metadata": {},
   "outputs": [
    {
     "name": "stdout",
     "output_type": "stream",
     "text": [
      "{\n",
      "    \"country\": \"AR\",\n",
      "    \"id\": \"x7mDIiDB3jEiPGPHOmDzyw\",\n",
      "    \"variables\": {\n",
      "        \"abstract\": \"The Big Data is a technological advent of processing large volumes of data that has gained notoriety because of opportunities and challenges around their usefulness in supporting the business. Therefore, this article, through a systematic literature review to identify how they are connected to Big Data and the corporate world. For this, 439 papers are investigated in terms of type of publication, annual trends in production, leading authors and institutions. As a result it was identified that there is a growing interest in the topic Big Data connected to business, both in the productions linked to scientific institutions, as those linked to companies. Were also observed theme leads to a very wide range of businesses, health marketing, or public transportation to education, always linked to better decision making.\",\n",
      "        \"concepts\": [\n",
      "            \"Big\",\n",
      "            \"Big Data\",\n",
      "            \"Data\",\n",
      "            \"technological advent\",\n",
      "            \"advent\",\n",
      "            \"large volumes\",\n",
      "            \"volumes\",\n",
      "            \"data\",\n",
      "            \"notoriety\",\n",
      "            \"opportunities\",\n",
      "            \"challenges\",\n",
      "            \"usefulness\",\n",
      "            \"business\",\n",
      "            \"article\",\n",
      "            \"systematic literature\",\n",
      "            \"systematic literature review\",\n",
      "            \"literature\",\n",
      "            \"literature review\",\n",
      "            \"review\",\n",
      "            \"Big\",\n",
      "            \"Big Data\",\n",
      "            \"Data\",\n",
      "            \"corporate world\",\n",
      "            \"world\",\n",
      "            \"papers\",\n",
      "            \"terms\",\n",
      "            \"type\",\n",
      "            \"publication\",\n",
      "            \"annual trends\",\n",
      "            \"trends\",\n",
      "            \"production\",\n",
      "            \"authors\",\n",
      "            \"institutions\",\n",
      "            \"result\",\n",
      "            \"interest\",\n",
      "            \"topic\",\n",
      "            \"Big\",\n",
      "            \"Big Data\",\n",
      "            \"Data\",\n",
      "            \"business\",\n",
      "            \"productions\",\n",
      "            \"scientific institutions\",\n",
      "            \"institutions\",\n",
      "            \"companies\",\n",
      "            \"theme\",\n",
      "            \"wide range\",\n",
      "            \"range\",\n",
      "            \"businesses\",\n",
      "            \"health\",\n",
      "            \"health marketing\",\n",
      "            \"marketing\",\n",
      "            \"public transportation\",\n",
      "            \"transportation\",\n",
      "            \"education\",\n",
      "            \"better decision\",\n",
      "            \"better decision making\",\n",
      "            \"decision\",\n",
      "            \"decision making\",\n",
      "            \"making\"\n",
      "        ]\n",
      "    }\n",
      "}\n"
     ]
    }
   ],
   "source": [
    "#print(len(object_list))\n",
    "print(json.dumps(object_list[0], indent=4, sort_keys=True))"
   ]
  },
  {
   "cell_type": "markdown",
   "metadata": {},
   "source": [
    "We can access one specific register and variable"
   ]
  },
  {
   "cell_type": "code",
   "execution_count": 5,
   "metadata": {},
   "outputs": [
    {
     "data": {
      "text/plain": [
       "'The Big Data is a technological advent of processing large volumes of data that has gained notoriety because of opportunities and challenges around their usefulness in supporting the business. Therefore, this article, through a systematic literature review to identify how they are connected to Big Data and the corporate world. For this, 439 papers are investigated in terms of type of publication, annual trends in production, leading authors and institutions. As a result it was identified that there is a growing interest in the topic Big Data connected to business, both in the productions linked to scientific institutions, as those linked to companies. Were also observed theme leads to a very wide range of businesses, health marketing, or public transportation to education, always linked to better decision making.'"
      ]
     },
     "execution_count": 5,
     "metadata": {},
     "output_type": "execute_result"
    }
   ],
   "source": [
    "object_list[0]['variables'].get('abstract')"
   ]
  },
  {
   "cell_type": "markdown",
   "metadata": {},
   "source": [
    "We can load each json to elasticsearch / opensearch"
   ]
  },
  {
   "cell_type": "code",
   "execution_count": 7,
   "metadata": {},
   "outputs": [
    {
     "name": "stdout",
     "output_type": "stream",
     "text": [
      "loading json file x7mDIiDB3jEiPGPHOmDzyw\n",
      "loading json file dDl8zu1vWPdKGihJrwQbpw\n"
     ]
    }
   ],
   "source": [
    "for object in object_list:\n",
    "    print(\"loading json file\",object['id'])\n",
    "    es.index(index='test', doc_type='doc',id=object['id'],  body=object)"
   ]
  },
  {
   "cell_type": "markdown",
   "metadata": {},
   "source": [
    "or we can only include some variables of the original json file before loading to elasticsearch"
   ]
  },
  {
   "cell_type": "code",
   "execution_count": 17,
   "metadata": {},
   "outputs": [
    {
     "name": "stdout",
     "output_type": "stream",
     "text": [
      "{\"id\": \"x7mDIiDB3jEiPGPHOmDzyw\", \"concepts\": [\"Big\", \"Big Data\", \"Data\", \"technological advent\", \"advent\", \"large volumes\", \"volumes\", \"data\", \"notoriety\", \"opportunities\", \"challenges\", \"usefulness\", \"business\", \"article\", \"systematic literature\", \"systematic literature review\", \"literature\", \"literature review\", \"review\", \"Big\", \"Big Data\", \"Data\", \"corporate world\", \"world\", \"papers\", \"terms\", \"type\", \"publication\", \"annual trends\", \"trends\", \"production\", \"authors\", \"institutions\", \"result\", \"interest\", \"topic\", \"Big\", \"Big Data\", \"Data\", \"business\", \"productions\", \"scientific institutions\", \"institutions\", \"companies\", \"theme\", \"wide range\", \"range\", \"businesses\", \"health\", \"health marketing\", \"marketing\", \"public transportation\", \"transportation\", \"education\", \"better decision\", \"better decision making\", \"decision\", \"decision making\", \"making\"]}\n",
      "{\"id\": \"dDl8zu1vWPdKGihJrwQbpw\", \"concepts\": [\"Big\", \"Big Data\", \"Data\", \"technological advent\", \"advent\", \"large volumes\", \"volumes\", \"data\", \"notoriety\", \"opportunities\", \"challenges\", \"usefulness\", \"business\", \"article\", \"systematic literature\", \"systematic literature review\", \"literature\", \"literature review\", \"review\", \"Big\", \"Big Data\", \"Data\", \"corporate world\", \"world\", \"papers\", \"terms\", \"type\", \"publication\", \"annual trends\", \"trends\", \"production\", \"authors\", \"institutions\", \"result\", \"interest\", \"topic\", \"Big\", \"Big Data\", \"Data\", \"business\", \"productions\", \"scientific institutions\", \"institutions\", \"companies\", \"theme\", \"wide range\", \"range\", \"businesses\", \"health\", \"health marketing\", \"marketing\", \"public transportation\", \"transportation\", \"education\", \"better decision\", \"better decision making\", \"decision\", \"decision making\", \"making\"]}\n"
     ]
    }
   ],
   "source": [
    "for object in object_list:    \n",
    "    ##create a json ###\n",
    "    ##first extract the useful variables\n",
    "    id=object['id']\n",
    "    concepts=object['variables'].get('concepts','')\n",
    "    ##second, create a dictionary\n",
    "    data = {}\n",
    "    ##assign the data to the dictionary\n",
    "    data['id'] = id\n",
    "    data['concepts'] = concepts\n",
    "    ##sent to json format\n",
    "    json_data = json.dumps(data)\n",
    "    print(json_data)\n",
    "\n",
    "    es.index(index='funciona', doc_type='doc', id=id, body=json_data)"
   ]
  }
 ],
 "metadata": {
  "kernelspec": {
   "display_name": "Python 3 (ipykernel)",
   "language": "python",
   "name": "python3"
  },
  "language_info": {
   "codemirror_mode": {
    "name": "ipython",
    "version": 3
   },
   "file_extension": ".py",
   "mimetype": "text/x-python",
   "name": "python",
   "nbconvert_exporter": "python",
   "pygments_lexer": "ipython3",
   "version": "3.6.9"
  }
 },
 "nbformat": 4,
 "nbformat_minor": 4
}
