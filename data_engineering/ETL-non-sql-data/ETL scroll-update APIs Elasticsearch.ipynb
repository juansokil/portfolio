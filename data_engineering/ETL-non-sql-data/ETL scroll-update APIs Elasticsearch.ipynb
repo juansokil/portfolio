{
 "cells": [
  {
   "cell_type": "markdown",
   "metadata": {},
   "source": [
    "## Iterate over a Elasticsearch INDEX using scroll API and update registers"
   ]
  },
  {
   "cell_type": "markdown",
   "metadata": {},
   "source": [
    "In this notebook we will access one index using Search - paginate the results with scroll, and update the registers with a new variable."
   ]
  },
  {
   "cell_type": "code",
   "execution_count": 6,
   "metadata": {},
   "outputs": [],
   "source": [
    "from elasticsearch import Elasticsearch\n",
    "from elasticsearch import helpers\n",
    "import random\n",
    "\n",
    "es = Elasticsearch([{'host':'localhost', 'port': 9200}])\n"
   ]
  },
  {
   "cell_type": "markdown",
   "metadata": {},
   "source": [
    "Create the search function - in this case we will match the registers with one specific value"
   ]
  },
  {
   "cell_type": "code",
   "execution_count": 54,
   "metadata": {},
   "outputs": [],
   "source": [
    "\n",
    "resp = es.search(index = 'youbora',  \n",
    "                 #body={\"query\": {\"match_all\": {}}} ,\n",
    "                 body={\"query\": {\"match\": {\"avg_bitrate_count\": 27}}} ,\n",
    "                 scroll = '2s') # length of time to keep search context)\n",
    "\n",
    "\n",
    "# keep track of pass scroll _id\n",
    "old_scroll_id = resp['_scroll_id']"
   ]
  },
  {
   "cell_type": "markdown",
   "metadata": {},
   "source": [
    "After that, we will iterate over all the document hits, create a new value and update the Elasticsearch index"
   ]
  },
  {
   "cell_type": "code",
   "execution_count": 55,
   "metadata": {},
   "outputs": [
    {
     "name": "stdout",
     "output_type": "stream",
     "text": [
      "Number of iteration: 1\n",
      "\n",
      " o375uH8BFdNqaqwSVUQ5\n",
      "\n",
      " hX75uH8BFdNqaqwSUD_D\n",
      "\n",
      " MH75uH8BFdNqaqwSUkEr\n",
      "\n",
      " Dn75uH8BFdNqaqwSXE0U\n",
      "\n",
      " en75uH8BFdNqaqwSSznd\n",
      "\n",
      " Sn75uH8BFdNqaqwSTTuZ\n",
      "\n",
      " hn75uH8BFdNqaqwSTTuZ\n",
      "\n",
      " Jn75uH8BFdNqaqwSTzw3\n",
      "\n",
      " m375uH8BFdNqaqwSPSoD\n",
      "\n",
      " AH75uH8BFdNqaqwSPy2U\n",
      "Number of iteration: 2\n",
      "\n",
      " MH75uH8BFdNqaqwSPy2U\n",
      "\n",
      " IX75uH8BFdNqaqwSLBc8\n",
      "\n",
      " nn75uH8BFdNqaqwSLxlj\n",
      "\n",
      " 4375uH8BFdNqaqwSLxlj\n",
      "\n",
      " MX75uH8BFdNqaqwSQi-9\n",
      "\n",
      " 1H75uH8BFdNqaqwSQi-9\n",
      "\n",
      " a375uH8BFdNqaqwSRTBS\n",
      "\n",
      " yH75uH8BFdNqaqwSYVIT\n",
      "\n",
      " Xn75uH8BFdNqaqwSOCWF\n",
      "\n",
      " sX75uH8BFdNqaqwSOicJ\n",
      "Number of iteration: 3\n",
      "\n",
      " mX75uH8BFdNqaqwSOyh8\n",
      "\n",
      " oX75uH8BFdNqaqwSHgdB\n",
      "\n",
      " Z375uH8BFdNqaqwSHwr3\n",
      "\n",
      " nX75uH8BFdNqaqwSHwr3\n",
      "\n",
      " 9X75uH8BFdNqaqwSKBOj\n",
      "\n",
      " DH75uH8BFdNqaqwSKhVY\n",
      "\n",
      " Ln75uH8BFdNqaqwSKhVY\n",
      "\n",
      " E375uH8BFdNqaqwSKhZY\n",
      "Number of iteration: 4\n",
      "response[\"hits\"][\"total\"][\"value\"]: 38\n"
     ]
    }
   ],
   "source": [
    "doc_count = 0\n",
    "\n",
    "# use a 'while' iterator to loop over document 'hits'\n",
    "while len(resp['hits']['hits']):\n",
    "    doc_count += 1\n",
    "    print('Number of iteration:', doc_count)\n",
    "    # make a request using the Scroll API\n",
    "    resp = es.scroll( scroll_id = old_scroll_id, scroll = '2s')\n",
    "\n",
    "    # check if there's a new scroll ID\n",
    "    if old_scroll_id != resp['_scroll_id']:\n",
    "        print (\"NEW SCROLL ID:\", resp['_scroll_id'])\n",
    "\n",
    "            # keep track of pass scroll _id\n",
    "    old_scroll_id = resp['_scroll_id']\n",
    "\n",
    "    # print the response results\n",
    "    #print (\"\\nresponse for index:\", 'youbora')\n",
    "    #print (\"_scroll_id:\", resp['_scroll_id'])\n",
    "    \n",
    "\n",
    "    # iterate over the document hits for each 'scroll'\n",
    "    for doc in resp['hits']['hits']:\n",
    "        print (\"\\n\", doc['_id'])\n",
    "        \n",
    "        #print (\"DOC COUNT:\", doc_count)\n",
    "        doc_id = doc[\"_id\"]\n",
    "        bucket = random.randint(1, 400)\n",
    "        #update\n",
    "        res = es.update(index='youbora',  id=doc_id, body={\"doc\":{\"bucket\":bucket}})\n",
    "        \n",
    "# print the total time and document count at the end\n",
    "print ('response[\"hits\"][\"total\"][\"value\"]:', resp[\"hits\"][\"total\"][\"value\"])"
   ]
  },
  {
   "cell_type": "code",
   "execution_count": null,
   "metadata": {},
   "outputs": [],
   "source": []
  }
 ],
 "metadata": {
  "kernelspec": {
   "display_name": "Python 3 (ipykernel)",
   "language": "python",
   "name": "python3"
  },
  "language_info": {
   "codemirror_mode": {
    "name": "ipython",
    "version": 3
   },
   "file_extension": ".py",
   "mimetype": "text/x-python",
   "name": "python",
   "nbconvert_exporter": "python",
   "pygments_lexer": "ipython3",
   "version": "3.6.9"
  }
 },
 "nbformat": 4,
 "nbformat_minor": 4
}
