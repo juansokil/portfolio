{
 "cells": [
  {
   "cell_type": "markdown",
   "metadata": {},
   "source": [
    "# Migration between Elasticsearch Index  (non sql data)"
   ]
  },
  {
   "cell_type": "markdown",
   "metadata": {},
   "source": [
    "In this notebook we will migrate data from one index to another using Search, Scan and Bulk helpers"
   ]
  },
  {
   "cell_type": "code",
   "execution_count": 1,
   "metadata": {},
   "outputs": [],
   "source": [
    "import pandas as pd\n",
    "import json\n",
    "import datetime\n",
    "import time"
   ]
  },
  {
   "cell_type": "code",
   "execution_count": 2,
   "metadata": {},
   "outputs": [
    {
     "name": "stdout",
     "output_type": "stream",
     "text": [
      "<Elasticsearch([{'host': 'localhost', 'port': 9200}])>\n",
      "<OpenSearch([{'host': 'localhost', 'port': 9200}])>\n"
     ]
    }
   ],
   "source": [
    "from elasticsearch import Elasticsearch\n",
    "from elasticsearch import helpers\n",
    "\n",
    "\n",
    "\n",
    "es = Elasticsearch([{'host':'localhost', 'port': 9200}])\n",
    "print(es)"
   ]
  },
  {
   "cell_type": "markdown",
   "metadata": {},
   "source": [
    "Create querys for document retrieval"
   ]
  },
  {
   "cell_type": "code",
   "execution_count": 3,
   "metadata": {},
   "outputs": [],
   "source": [
    "# Search for the document - Multi-Match.\n",
    "#query = {'query': {'multi_match': {'query': '2021','fields': ['YearAccepted','YearPublished']}}}\n",
    "\n",
    "# Search for the document - One variable\n",
    "query={\"query\": {\"match\": {\"acronym\": \"ES\"}}}\n",
    "\n",
    "# Search for the document - Match all registers\n",
    "query={\"query\": {\"match_all\": {}}}"
   ]
  },
  {
   "cell_type": "markdown",
   "metadata": {},
   "source": []
  },
  {
   "cell_type": "code",
   "execution_count": null,
   "metadata": {},
   "outputs": [],
   "source": [
    "results_search = es.search(\n",
    "    body = query, #using the query from the chunk\n",
    "    index = \"entity\")\n",
    "\n",
    "results_scan = helpers.scan(es,\n",
    "    body = query, #using the query from the chunk\n",
    "    index=\"entity\")\n"
   ]
  },
  {
   "cell_type": "markdown",
   "metadata": {},
   "source": [
    "FIRST OPTION ONE BY ONE"
   ]
  },
  {
   "cell_type": "code",
   "execution_count": null,
   "metadata": {},
   "outputs": [],
   "source": [
    "for doc in response['hits']['hits']:\n",
    "\n",
    "    id=doc['_id']\n",
    "\n",
    "    country=doc['_source'].get('acronym','')\n",
    "\n",
    "    keywords_list=doc['_source'].get('keyword','')\n",
    "    keywords = [x.lower() for x in keywords_list]\n",
    "\n",
    "    year=''\n",
    "    fecha=doc['_source'].get('datePublished','')\n",
    "    if len(fecha) > 0:\n",
    "        fecha_string=fecha[0]\n",
    "        try:\n",
    "            fecha_date=datetime.datetime.now().strptime(fecha_string, \"%Y-%m-%dT%H:%M:%SZ\")\n",
    "            year=fecha_date.year\n",
    "        except:\n",
    "            year=''\n",
    "\n",
    "\n",
    "    ####ARMO EL JSON###########\n",
    "    register = {}\n",
    "    register['id'] = id\n",
    "    register['country'] = country\n",
    "    register['keywords'] = keywords\n",
    "    register['year'] = year\n",
    "    \n",
    "    \n",
    "    json_data = json.dumps(register)\n",
    "    print(json.dumps(register, indent=4))\n",
    "    \n",
    "\n",
    "    es.index(index='newindex', doc_type='doc',id=id,  body=json_data)\n",
    "    "
   ]
  },
  {
   "cell_type": "markdown",
   "metadata": {},
   "source": [
    "SECOND OPTION BULK DATA"
   ]
  },
  {
   "cell_type": "code",
   "execution_count": null,
   "metadata": {},
   "outputs": [],
   "source": [
    "\n",
    "BULK_SIZE = 10\n",
    "\n",
    "\n",
    "BulkData = []\n",
    "\n",
    "for doc in response['hits']['hits']:\n",
    "\n",
    "    id=doc['_id']\n",
    "\n",
    "    country=doc['_source'].get('acronym','')\n",
    "\n",
    "    keywords_list=doc['_source'].get('keyword','')\n",
    "    keywords = [x.lower() for x in keywords_list]\n",
    "\n",
    "    year=''\n",
    "    fecha=doc['_source'].get('datePublished','')\n",
    "    if len(fecha) > 0:\n",
    "        fecha_string=fecha[0]\n",
    "        try:\n",
    "            fecha_date=datetime.datetime.now().strptime(fecha_string, \"%Y-%m-%dT%H:%M:%SZ\")\n",
    "            year=fecha_date.year\n",
    "        except:\n",
    "            year=''\n",
    "\n",
    "\n",
    "    ####ARMO EL JSON###########\n",
    "    register = {}\n",
    "    register['id'] = id\n",
    "    register['country'] = country\n",
    "    register['keywords'] = keywords\n",
    "    register['year'] = year\n",
    "    \n",
    "    \n",
    "    \n",
    "    BulkData.append(register)\n",
    "\n",
    "    \n",
    "    if len(BulkData) == BULK_SIZE:\n",
    "        print('se estan enviando datos a ES', time.strftime(\"%Y-%m-%d %H:%M:%S\", time.gmtime()))\n",
    "        helpers.bulk(es, actions, index='newindex')\n",
    "        actions = []\n",
    "\n",
    "\n",
    "if len(actions) > 0:\n",
    "    print('se estan enviando los ultimos datos a ES', time.strftime(\"%Y-%m-%d %H:%M:%S\", time.gmtime()))\n",
    "    helpers.bulk(es, actions, index='newindex')\n",
    "    actions = []\n",
    "\n",
    "    "
   ]
  },
  {
   "cell_type": "code",
   "execution_count": null,
   "metadata": {},
   "outputs": [],
   "source": []
  },
  {
   "cell_type": "code",
   "execution_count": null,
   "metadata": {},
   "outputs": [],
   "source": []
  }
 ],
 "metadata": {
  "kernelspec": {
   "display_name": "Python 3 (ipykernel)",
   "language": "python",
   "name": "python3"
  },
  "language_info": {
   "codemirror_mode": {
    "name": "ipython",
    "version": 3
   },
   "file_extension": ".py",
   "mimetype": "text/x-python",
   "name": "python",
   "nbconvert_exporter": "python",
   "pygments_lexer": "ipython3",
   "version": "3.6.9"
  }
 },
 "nbformat": 4,
 "nbformat_minor": 4
}
