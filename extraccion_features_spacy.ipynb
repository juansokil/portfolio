{
 "cells": [
  {
   "cell_type": "markdown",
   "id": "a35908b3",
   "metadata": {},
   "source": [
    "# In this notebook we will explore some essentials functions to work with text in spacy v3.\n"
   ]
  },
  {
   "cell_type": "code",
   "execution_count": 118,
   "id": "5ad16526",
   "metadata": {},
   "outputs": [
    {
     "name": "stdout",
     "output_type": "stream",
     "text": [
      "3.3.0\n"
     ]
    }
   ],
   "source": [
    "import pandas as pd\n",
    "\n",
    "#Import the requisite library\n",
    "import spacy\n",
    "print(spacy.__version__)\n",
    "nlp = spacy.load(\"es_core_news_sm\")\n",
    "\n",
    "import re"
   ]
  },
  {
   "cell_type": "markdown",
   "id": "c6eec851-3ca6-452a-b800-e11bc2e2f89a",
   "metadata": {},
   "source": [
    "## Features de Texto con spacy"
   ]
  },
  {
   "cell_type": "code",
   "execution_count": 16,
   "id": "f4e818b8-fe93-41c2-8440-4a18c4f0c65d",
   "metadata": {},
   "outputs": [],
   "source": [
    "#Sample text\n",
    "text = \"Recibí por mail un aviso que alguien ingresó con mi usuario desde Nueva York, mi numero de documento es 11223344. Además me dijeron que no podia hacer nada, y que me aumentan el precio. Voy a llamar a defensa del consumidor\"\n",
    "doc= nlp(text)"
   ]
  },
  {
   "cell_type": "code",
   "execution_count": 17,
   "id": "b3ac3ab6-cc68-42b9-ae69-2693acce1f2d",
   "metadata": {},
   "outputs": [
    {
     "name": "stdout",
     "output_type": "stream",
     "text": [
      "Recibí por mail un aviso que alguien ingresó con mi usuario desde Nueva York, mi numero de documento es 11223344.\n",
      "Además me dijeron que no podia hacer nada, y que me aumentan el precio.\n",
      "Voy a llamar a defensa del consumidor\n"
     ]
    }
   ],
   "source": [
    "for sent in doc.sents:\n",
    "    print(sent.text) "
   ]
  },
  {
   "cell_type": "code",
   "execution_count": 18,
   "id": "03df16fa-7077-45f4-a5a4-39745e77bb99",
   "metadata": {},
   "outputs": [
    {
     "data": {
      "text/plain": [
       "['Recibí por mail un aviso que alguien ingresó con mi usuario desde Nueva York, mi numero de documento es 11223344.',\n",
       " 'Además me dijeron que no podia hacer nada, y que me aumentan el precio.',\n",
       " 'Voy a llamar a defensa del consumidor']"
      ]
     },
     "execution_count": 18,
     "metadata": {},
     "output_type": "execute_result"
    }
   ],
   "source": [
    "[sent.text for sent in doc.sents]"
   ]
  },
  {
   "cell_type": "code",
   "execution_count": 19,
   "id": "825df635-5119-474b-b00e-68cba90cdc73",
   "metadata": {},
   "outputs": [
    {
     "name": "stdout",
     "output_type": "stream",
     "text": [
      "Recibí Recibí PROPN\n",
      "por por ADP\n",
      "mail mail VERB\n",
      "un uno DET\n",
      "aviso aviso NOUN\n",
      "que que PRON\n",
      "alguien alguien PRON\n",
      "ingresó ingresar VERB\n",
      "con con ADP\n",
      "mi mi DET\n",
      "usuario usuario NOUN\n",
      "desde desde ADP\n",
      "Nueva Nueva PROPN\n",
      "York York PROPN\n",
      ", , PUNCT\n",
      "mi mi DET\n",
      "numero numero NOUN\n",
      "de de ADP\n",
      "documento documento NOUN\n",
      "es ser AUX\n",
      "11223344 11223344 NOUN\n",
      ". . PUNCT\n",
      "Además además ADV\n",
      "me yo PRON\n",
      "dijeron decir VERB\n",
      "que que SCONJ\n",
      "no no ADV\n",
      "podia podiar VERB\n",
      "hacer hacer VERB\n",
      "nada nada PRON\n",
      ", , PUNCT\n",
      "y y CCONJ\n",
      "que que SCONJ\n",
      "me yo PRON\n",
      "aumentan aumentar VERB\n",
      "el el DET\n",
      "precio precio NOUN\n",
      ". . PUNCT\n",
      "Voy voy AUX\n",
      "a a ADP\n",
      "llamar llamar VERB\n",
      "a a ADP\n",
      "defensa defensa NOUN\n",
      "del del ADP\n",
      "consumidor consumidor NOUN\n"
     ]
    }
   ],
   "source": [
    "for sent in doc.sents:\n",
    "    for token in sent:\n",
    "        print(token.text, token.lemma_, token.pos_)"
   ]
  },
  {
   "cell_type": "markdown",
   "id": "1831d9dd-6ca8-46b6-b0fb-57f618c1deab",
   "metadata": {},
   "source": [
    "## matcher con spacy"
   ]
  },
  {
   "cell_type": "code",
   "execution_count": 20,
   "id": "3fcf8666-ecf2-444e-b89d-e9783397a559",
   "metadata": {},
   "outputs": [],
   "source": [
    "from spacy.matcher import Matcher\n",
    "matcher = Matcher(nlp.vocab)"
   ]
  },
  {
   "cell_type": "code",
   "execution_count": 21,
   "id": "37bff775-1690-4313-b579-50d7e2592fa6",
   "metadata": {},
   "outputs": [],
   "source": [
    "sustantivos = [[{'POS': 'NOUN' or 'PROPN'}]]\n",
    "matcher.add(\"SUSTANTIVOS\", sustantivos)"
   ]
  },
  {
   "cell_type": "code",
   "execution_count": 22,
   "id": "9ae46e54-86c9-420b-a288-a175d2a09634",
   "metadata": {},
   "outputs": [
    {
     "name": "stdout",
     "output_type": "stream",
     "text": [
      "Match Found:  aviso\n",
      "Match Found:  usuario\n",
      "Match Found:  numero\n",
      "Match Found:  documento\n",
      "Match Found:  11223344\n",
      "Match Found:  precio\n",
      "Match Found:  defensa\n",
      "Match Found:  consumidor\n"
     ]
    }
   ],
   "source": [
    "\n",
    "sustantivos = matcher(doc)\n",
    "for match_id, start, end in sustantivos:\n",
    "    print(\"Match Found: \", doc[start:end].text)"
   ]
  },
  {
   "cell_type": "code",
   "execution_count": 23,
   "id": "52eba07a-cc1f-4464-95bf-c2fbe52ba1e2",
   "metadata": {},
   "outputs": [
    {
     "name": "stdout",
     "output_type": "stream",
     "text": [
      "Match Found:  11223344\n",
      "Match Found:  aumentar el precio\n",
      "Match Found:  defensa del consumidor\n"
     ]
    }
   ],
   "source": [
    "\n",
    "matcher2 = Matcher(nlp.vocab)\n",
    "\n",
    "patterns = [\n",
    "    [{\"TEXT\": {\"REGEX\": \"((\\d){8})\"}}], #numeros de documento\n",
    "    [{\"LOWER\": \"no\"}, {\"TEXT\": {\"REGEX\": \"\\w+\"}, \"OP\": \"?\"}, {\"LEMMA\": \"poder\"}, {\"TEXT\": {\"REGEX\": \"\\w+\"}, \"OP\": \"?\"}, {\"TEXT\": {\"REGEX\": \"^comunicar\"}}], \n",
    "    [{\"LEMMA\": {\"IN\": ['aumentar','modificar']}}, {\"TEXT\": {\"REGEX\": \"\\w+\"}, \"OP\": \"?\"}, {\"TEXT\": {\"REGEX\": \"\\w+\"}, \"OP\": \"?\"}, {\"TEXT\": {\"REGEX\": \"\\w+\"}, \"OP\": \"?\"}, {\"lower\": {\"IN\": ['precio','abono']}}], #  Modificar / Aumentar el precio / abono\n",
    "    [{\"LEMMA\": {\"REGEX\": \"defensa|aten[sc]i[oó]n\"}}, {\"TEXT\": {\"REGEX\": \"\\w+\"}, \"OP\": \"?\"}, {\"TEXT\": {\"REGEX\": \"\\w+\"}, \"OP\": \"?\"}, {\"TEXT\": {\"REGEX\": \"\\w+\"}, \"OP\": \"?\"}, {\"lower\": {\"REGEX\": \"consumid\"}}] #  Defensa del consumidor\n",
    "    ] #cosas mas especificas\n",
    "\n",
    "\n",
    "\n",
    "matcher2.add(\"TEXT_PATTERNS\", patterns)\n",
    "\n",
    "patrones = matcher2(doc)\n",
    "for match_id, start, end in patrones:\n",
    "    print(\"Match Found: \", doc[start:end].lemma_)\n",
    "\n"
   ]
  },
  {
   "cell_type": "markdown",
   "id": "3389cd2a",
   "metadata": {},
   "source": [
    "## Regex dentro del texto con spacy"
   ]
  },
  {
   "cell_type": "code",
   "execution_count": 25,
   "id": "702ff5af-00b6-466f-b926-3c866b7a6003",
   "metadata": {},
   "outputs": [],
   "source": [
    "import re"
   ]
  },
  {
   "cell_type": "code",
   "execution_count": 116,
   "id": "6bf0fc9c",
   "metadata": {},
   "outputs": [
    {
     "name": "stdout",
     "output_type": "stream",
     "text": [
      "Found match: robando mucho\n"
     ]
    }
   ],
   "source": [
    "doc = nlp(\"Estamos robando un monton, pero no es mucho, vamos robando mucho mucho mucho mas\")\n",
    "\n",
    "\n",
    "expression = r\"\\brobando\\W+(?:\\w+\\W+){0,3}?mucho\\b\" #SIMULA NEAR\n",
    "expression = r\"\\brobando\\ mucho\\b\" #UNA PALABRA AL LADO DE LA OTRA\n",
    "\n",
    "\n",
    "for match in re.finditer(expression, doc.text):\n",
    "    start, end = match.span()\n",
    "    span = doc.char_span(start, end)\n",
    "    # This is a Span object or None if match doesn't map to valid token sequence\n",
    "    if span is not None:\n",
    "        print(\"Found match:\", span.text)"
   ]
  }
 ],
 "metadata": {
  "kernelspec": {
   "display_name": "Python 3.9.13 64-bit",
   "language": "python",
   "name": "python3"
  },
  "language_info": {
   "codemirror_mode": {
    "name": "ipython",
    "version": 3
   },
   "file_extension": ".py",
   "mimetype": "text/x-python",
   "name": "python",
   "nbconvert_exporter": "python",
   "pygments_lexer": "ipython3",
   "version": "3.9.13"
  },
  "vscode": {
   "interpreter": {
    "hash": "6eb2ff22b3c0ad231e7241039ebe62d6525ab50997bd0d9324f37dd1b5a3814a"
   }
  }
 },
 "nbformat": 4,
 "nbformat_minor": 5
}
